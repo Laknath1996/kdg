{
 "cells": [
  {
   "cell_type": "code",
   "execution_count": 1,
   "metadata": {},
   "outputs": [],
   "source": [
    "from tensorflow import keras\n",
    "from kdg.utils import generate_spirals as generate_data\n",
    "import seaborn as sns\n",
    "import numpy as np\n",
    "import matplotlib.pyplot as plt\n",
    "import pandas as pd\n",
    "from sklearn.metrics import roc_auc_score\n",
    "from scipy.io import savemat, loadmat\n",
    "\n",
    "from kdg.kdn import *"
   ]
  },
  {
   "cell_type": "code",
   "execution_count": 2,
   "metadata": {},
   "outputs": [],
   "source": [
    "# kdn approx lin\n",
    "kdn_kwargs = {\n",
    "    \"k\": 1e-5,\n",
    "    \"polytope_compute_method\": \"all\",\n",
    "    \"weighting_method\": \"lin\",\n",
    "    \"T\": 2,\n",
    "    \"c\": 3,\n",
    "    \"verbose\": False\n",
    "}"
   ]
  },
  {
   "cell_type": "code",
   "execution_count": 3,
   "metadata": {},
   "outputs": [],
   "source": [
    "# Define NN parameters\n",
    "X_val, y_val = generate_data(500)\n",
    "compile_kwargs = {\n",
    "    \"loss\": \"binary_crossentropy\",\n",
    "    \"optimizer\": keras.optimizers.Adam(3e-4),\n",
    "}\n",
    "callback = keras.callbacks.EarlyStopping(monitor=\"val_loss\", patience=10, verbose=False)\n",
    "fit_kwargs = {\n",
    "    \"epochs\": 300,\n",
    "    \"batch_size\": 64,\n",
    "    \"verbose\": False,\n",
    "    \"validation_data\": (X_val, keras.utils.to_categorical(y_val)),\n",
    "    \"callbacks\": [callback],\n",
    "}"
   ]
  },
  {
   "cell_type": "code",
   "execution_count": 4,
   "metadata": {},
   "outputs": [],
   "source": [
    "# network architecture [10, 10, 10, 10, 2]\n",
    "def getNN():\n",
    "    network_base = keras.Sequential()\n",
    "    initializer = keras.initializers.GlorotNormal(seed=0)\n",
    "    network_base.add(keras.layers.Dense(10, activation=\"relu\", kernel_initializer=initializer, input_shape=(2,)))\n",
    "    network_base.add(keras.layers.Dense(10, activation=\"relu\", kernel_initializer=initializer))\n",
    "    network_base.add(keras.layers.Dense(10, activation=\"relu\", kernel_initializer=initializer))\n",
    "    network_base.add(keras.layers.Dense(10, activation=\"relu\", kernel_initializer=initializer))\n",
    "    network_base.add(keras.layers.Dense(units=2, activation=\"softmax\", kernel_initializer=initializer))\n",
    "    network_base.compile(**compile_kwargs)\n",
    "    return network_base"
   ]
  },
  {
   "cell_type": "code",
   "execution_count": 18,
   "metadata": {},
   "outputs": [
    {
     "name": "stdout",
     "output_type": "stream",
     "text": [
      "Doing sample 10\n",
      "Doing sample 50\n",
      "Doing sample 100\n",
      "Doing sample 500\n",
      "Doing sample 1000\n",
      "Doing sample 5000\n",
      "Doing sample 10000\n",
      "Doing sample 50000\n"
     ]
    }
   ],
   "source": [
    "# run the experiment\n",
    "sample_size = [10, 50, 100, 500, 1000, 5000, 10000, 50000]\n",
    "n_test = 1000\n",
    "reps = 1\n",
    "accuracy_nn = []\n",
    "class_0_num_polytopes = []\n",
    "class_1_num_polytopes = []\n",
    "reps_list = []\n",
    "sample_list = []\n",
    "\n",
    "df = {}\n",
    "\n",
    "# run experiment\n",
    "for sample in sample_size:\n",
    "    print(\"Doing sample %d\" % sample)\n",
    "    for ii in range(reps):\n",
    "        X, y = generate_data(sample)\n",
    "        X_test, y_test = generate_data(n_test)\n",
    "\n",
    "        # train Vanilla NN\n",
    "        nn = getNN()\n",
    "        nn.fit(X, keras.utils.to_categorical(y), **fit_kwargs)\n",
    "\n",
    "        accuracy_nn.append(\n",
    "            np.mean(np.argmax(nn.predict(X_test), axis=1) == y_test)\n",
    "        )\n",
    "        \n",
    "        # train KDN1\n",
    "        model_kdn = kdn(nn, **kdn_kwargs)\n",
    "        class_0_num_polytopes.append(\n",
    "            len(np.unique(model_kdn._get_polytope_memberships(X[y==0])))\n",
    "        )\n",
    "        class_1_num_polytopes.append(\n",
    "            len(np.unique(model_kdn._get_polytope_memberships(X[y==1])))\n",
    "        )\n",
    "        \n",
    "        reps_list.append(ii)\n",
    "        sample_list.append(sample)\n",
    "\n",
    "df[\"class_0_numpoly\"] = class_0_num_polytopes\n",
    "df[\"class_1_numpoly\"] = class_1_num_polytopes\n",
    "df[\"reps_list\"] = reps_list\n",
    "df[\"sample_list\"] = sample_list"
   ]
  },
  {
   "cell_type": "code",
   "execution_count": 19,
   "metadata": {},
   "outputs": [
    {
     "data": {
      "text/plain": [
       "<matplotlib.legend.Legend at 0x7fc172d80400>"
      ]
     },
     "execution_count": 19,
     "metadata": {},
     "output_type": "execute_result"
    },
    {
     "data": {
      "image/png": "[encoded data removed]",
      "text/plain": [
       "<Figure size 432x288 with 1 Axes>"
      ]
     },
     "metadata": {
      "needs_background": "light"
     },
     "output_type": "display_data"
    }
   ],
   "source": [
    "fig, ax = plt.subplots()\n",
    "ax.plot(df[\"sample_list\"], df[\"class_0_numpoly\"], \"r\", label=\"Class 0\")\n",
    "ax.plot(df[\"sample_list\"], df[\"class_1_numpoly\"], \"b\", label=\"Class 1\")\n",
    "ax.set_xlabel(\"sample size\")\n",
    "ax.set_ylabel(\"number of linear regions\")\n",
    "ax.legend()"
   ]
  }
 ],
 "metadata": {
  "interpreter": {
   "hash": "4d95b061de94e11b297f10cd4fe2e3f784f4933b278fd1968b1b57b743177f15"
  },
  "kernelspec": {
   "display_name": "Python 3.6.13 64-bit ('kdg_env': conda)",
   "language": "python",
   "name": "python3"
  },
  "language_info": {
   "codemirror_mode": {
    "name": "ipython",
    "version": 3
   },
   "file_extension": ".py",
   "mimetype": "text/x-python",
   "name": "python",
   "nbconvert_exporter": "python",
   "pygments_lexer": "ipython3",
   "version": "3.6.13"
  },
  "orig_nbformat": 4
 },
 "nbformat": 4,
 "nbformat_minor": 2
}
