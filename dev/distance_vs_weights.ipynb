{
 "cells": [
  {
   "cell_type": "markdown",
   "metadata": {},
   "source": [
    "# Gaussian Sparsse Parity"
   ]
  },
  {
   "cell_type": "code",
   "execution_count": 66,
   "metadata": {},
   "outputs": [],
   "source": [
    "# import modules\n",
    "import numpy as np\n",
    "from tensorflow import keras\n",
    "from kdg.kdn import *\n",
    "from kdg.utils import gaussian_sparse_parity\n",
    "import seaborn as sns\n",
    "sns.set_context('talk')"
   ]
  },
  {
   "cell_type": "code",
   "execution_count": 67,
   "metadata": {},
   "outputs": [],
   "source": [
    "# define the experimental setup\n",
    "p = 20 # total dimensions of the data vector\n",
    "p_star = 3 # number of signal dimensions of the data vector"
   ]
  },
  {
   "cell_type": "code",
   "execution_count": 68,
   "metadata": {},
   "outputs": [],
   "source": [
    "# generate data\n",
    "X, y = gaussian_sparse_parity(\n",
    "    10000,\n",
    "    p_star=p_star,\n",
    "    p=p\n",
    ")\n",
    "X_test, y_test = gaussian_sparse_parity(\n",
    "    1000,\n",
    "    p_star=p_star,\n",
    "    p=p\n",
    ")\n",
    "X_val, y_val = gaussian_sparse_parity(\n",
    "    500,\n",
    "    p_star=p_star,\n",
    "    p=p\n",
    ")"
   ]
  },
  {
   "cell_type": "code",
   "execution_count": 69,
   "metadata": {},
   "outputs": [],
   "source": [
    "# NN params\n",
    "compile_kwargs = {\n",
    "    \"loss\": \"binary_crossentropy\",\n",
    "    \"optimizer\": keras.optimizers.Adam(1e-3),\n",
    "}\n",
    "callback = keras.callbacks.EarlyStopping(monitor=\"val_loss\", patience=10, verbose=False)\n",
    "fit_kwargs = {\n",
    "    \"epochs\": 200,\n",
    "    \"batch_size\": 32,\n",
    "    \"verbose\": False,\n",
    "    \"validation_data\": (X_val, keras.utils.to_categorical(y_val)),\n",
    "    \"callbacks\": [callback],\n",
    "}"
   ]
  },
  {
   "cell_type": "code",
   "execution_count": 70,
   "metadata": {},
   "outputs": [],
   "source": [
    "# network architecture\n",
    "def getNN():\n",
    "    initializer = keras.initializers.GlorotNormal(seed=0)\n",
    "    network_base = keras.Sequential()\n",
    "    network_base.add(keras.layers.Dense(5, activation=\"relu\", kernel_initializer=initializer, input_shape=(20,)))\n",
    "    network_base.add(keras.layers.Dense(5, activation=\"relu\", kernel_initializer=initializer))\n",
    "    network_base.add(keras.layers.Dense(units=2, activation=\"softmax\", kernel_initializer=initializer))\n",
    "    network_base.compile(**compile_kwargs)\n",
    "    return network_base"
   ]
  },
  {
   "cell_type": "code",
   "execution_count": 71,
   "metadata": {},
   "outputs": [],
   "source": [
    "# train Vanilla NN\n",
    "vanilla_nn = getNN()\n",
    "vanilla_nn.fit(X, keras.utils.to_categorical(y), **fit_kwargs)\n",
    "\n",
    "# train KDN\n",
    "model_kdn = kdn(\n",
    "    network=vanilla_nn,\n",
    "    polytope_compute_method=\"all\",\n",
    "    k=1e-5,\n",
    "    weighting_method=\"lin\",\n",
    "    T=2,\n",
    "    c=2,\n",
    "    verbose=False,\n",
    ")\n",
    "model_kdn.fit(X, y)"
   ]
  },
  {
   "cell_type": "code",
   "execution_count": 72,
   "metadata": {},
   "outputs": [
    {
     "name": "stdout",
     "output_type": "stream",
     "text": [
      "NN Accuracy: 0.918\n",
      "KDN Accuracy: 0.915\n"
     ]
    }
   ],
   "source": [
    "accuracy_kdn = np.mean(\n",
    "        model_kdn.predict(X_test) == y_test\n",
    "    )\n",
    "accuracy_nn = np.mean(\n",
    "        np.argmax(vanilla_nn.predict(X_test), axis=1) == y_test\n",
    "    )\n",
    "\n",
    "print(\"NN Accuracy:\", accuracy_nn)\n",
    "print(\"KDN Accuracy:\", accuracy_kdn)"
   ]
  },
  {
   "cell_type": "code",
   "execution_count": 73,
   "metadata": {},
   "outputs": [],
   "source": [
    "def compute_weights(X_, polytope_id):\n",
    "    M_ref = model_kdn._get_activation_pattern(polytope_id)\n",
    "    start = 0\n",
    "    A = X_\n",
    "    A_ref = X_\n",
    "    d = 0\n",
    "    for l in range(len(model_kdn.network_shape)-1):\n",
    "        end = start + model_kdn.network_shape[l]\n",
    "        M_l = M_ref[start:end]\n",
    "        start = end\n",
    "        W, B = model_kdn.weights[l], model_kdn.biases[l]\n",
    "        pre_A = A @ W + B\n",
    "        A = np.maximum(0, pre_A)\n",
    "        pre_A_ref = A_ref @ W + B\n",
    "        A_ref = pre_A_ref @ np.diag(M_l) \n",
    "        d += np.linalg.norm(A - A_ref, axis=1, ord=2)\n",
    "    scales = np.exp(-d)\n",
    "    # scales = d\n",
    "    return scales"
   ]
  },
  {
   "cell_type": "code",
   "execution_count": 74,
   "metadata": {},
   "outputs": [],
   "source": [
    "X_0 = X[y==0] # data that belong to class 0\n",
    "\n",
    "# pick the point closest to the class mean\n",
    "idx = np.linalg.norm(X_0[:, :3] - [0.5, 0.5, 0.5], ord=2, axis=1).argsort()[0]\n",
    "X_ref = X_0[idx]\n",
    "x_ref = X_ref[:3]\n",
    "\n",
    "# define the distances\n",
    "d = np.arange(0.1, 10, 0.1)\n",
    "\n",
    "# get the activation pattern of the reference point\n",
    "X_ref_polytope_id = model_kdn._get_polytope_memberships(X_ref.reshape(1, len(X_ref)))[0][0]\n",
    "a_ref = np.binary_repr(X_ref_polytope_id, width=model_kdn.num_fc_neurons)[::-1]\n",
    "a_ref = np.array(list(a_ref)).astype('int')\n",
    "\n",
    "rep = 300\n",
    "distance_replicates = {}\n",
    "for i in range(len(d)):\n",
    "    tmpp_array = []\n",
    "    for j in range(rep):\n",
    "        # sample points which has the same distance from the reference point\n",
    "        u = np.random.normal(0,1,3)\n",
    "        u_norm = np.linalg.norm(u)\n",
    "        x_bar = u/u_norm * d[i] + x_ref\n",
    "        X_bar = X_ref.copy()\n",
    "\n",
    "        X_bar[:3] = x_bar\n",
    "\n",
    "        # inference\n",
    "        X_bar_polytope_id = model_kdn._get_polytope_memberships(X_bar.reshape(1, len(X_bar)))[0][0]\n",
    "        a_bar = np.binary_repr(X_bar_polytope_id, width=model_kdn.num_fc_neurons)[::-1]\n",
    "        a_bar = np.array(list(a_bar)).astype('int')\n",
    "        tmpp_array.append(X_bar)\n",
    "    distance_replicates[d[i]] = tmpp_array"
   ]
  },
  {
   "cell_type": "code",
   "execution_count": 75,
   "metadata": {},
   "outputs": [],
   "source": [
    "mean_weights = []\n",
    "quantile_25_weights = []\n",
    "quantile_75_weights = []\n",
    "for i in range(len(d)):\n",
    "    weights_per_distance = []\n",
    "    for j in range(rep):\n",
    "        X_bar = distance_replicates[d[i]][j]\n",
    "        weight = compute_weights(X_bar.reshape(1, 20), X_ref_polytope_id)\n",
    "        weights_per_distance.append(weight)\n",
    "    weights_per_distance = np.array(weights_per_distance)\n",
    "    mean_weights.append(np.median(weights_per_distance))\n",
    "    quantile_25_weights.append(\n",
    "        np.quantile(weights_per_distance, [0.25])[0]\n",
    "        )\n",
    "    quantile_75_weights.append( \n",
    "        np.quantile(weights_per_distance, [0.75])[0]\n",
    "        )"
   ]
  },
  {
   "cell_type": "code",
   "execution_count": 76,
   "metadata": {},
   "outputs": [
    {
     "data": {
      "text/plain": [
       "(0.0, 1.0)"
      ]
     },
     "execution_count": 76,
     "metadata": {},
     "output_type": "execute_result"
    },
    {
     "data": {
      "image/png": "[encoded data removed]",
      "text/plain": [
       "<Figure size 576x576 with 1 Axes>"
      ]
     },
     "metadata": {
      "needs_background": "light"
     },
     "output_type": "display_data"
    }
   ],
   "source": [
    "# plot distance vs. weights\n",
    "mean_weights = np.array(mean_weights)\n",
    "quantile_25_weights = np.array(quantile_25_weights)\n",
    "quantile_75_weights = np.array(quantile_75_weights)\n",
    "\n",
    "fig, ax = plt.subplots(1,1, figsize=(8,8))\n",
    "\n",
    "ax.plot(d, mean_weights, c='r')\n",
    "ax.fill_between(d, quantile_25_weights, quantile_75_weights, facecolor='r', alpha=.3)\n",
    "\n",
    "right_side = ax.spines[\"right\"]\n",
    "right_side.set_visible(False)\n",
    "top_side = ax.spines[\"top\"]\n",
    "top_side.set_visible(False)\n",
    "\n",
    "ax.set_xlabel('Distance')\n",
    "ax.set_ylabel('weights')\n",
    "ax.set_ylim(0,1)"
   ]
  },
  {
   "cell_type": "markdown",
   "metadata": {},
   "source": [
    "# Gaussian Sparse Parity without Noise"
   ]
  },
  {
   "cell_type": "code",
   "execution_count": 77,
   "metadata": {},
   "outputs": [],
   "source": [
    "# NN params\n",
    "compile_kwargs = {\n",
    "    \"loss\": \"binary_crossentropy\",\n",
    "    \"optimizer\": keras.optimizers.Adam(1e-3),\n",
    "}\n",
    "callback = keras.callbacks.EarlyStopping(monitor=\"val_loss\", patience=10, verbose=False)\n",
    "fit_kwargs = {\n",
    "    \"epochs\": 200,\n",
    "    \"batch_size\": 32,\n",
    "    \"verbose\": False,\n",
    "    \"validation_data\": (X_val[:, :3], keras.utils.to_categorical(y_val)),\n",
    "    \"callbacks\": [callback],\n",
    "}"
   ]
  },
  {
   "cell_type": "code",
   "execution_count": 78,
   "metadata": {},
   "outputs": [],
   "source": [
    "# network architecture\n",
    "def getNN():\n",
    "    initializer = keras.initializers.GlorotNormal(seed=0)\n",
    "    network_base = keras.Sequential()\n",
    "    network_base.add(keras.layers.Dense(5, activation=\"relu\", kernel_initializer=initializer, input_shape=(3,)))\n",
    "    network_base.add(keras.layers.Dense(5, activation=\"relu\", kernel_initializer=initializer))\n",
    "    network_base.add(keras.layers.Dense(units=2, activation=\"softmax\", kernel_initializer=initializer))\n",
    "    network_base.compile(**compile_kwargs)\n",
    "    return network_base"
   ]
  },
  {
   "cell_type": "code",
   "execution_count": 79,
   "metadata": {},
   "outputs": [],
   "source": [
    "# train Vanilla NN\n",
    "vanilla_nn = getNN()\n",
    "vanilla_nn.fit(X[:, :3], keras.utils.to_categorical(y), **fit_kwargs)\n",
    "\n",
    "# train KDN\n",
    "model_kdn = kdn(\n",
    "    network=vanilla_nn,\n",
    "    polytope_compute_method=\"all\",\n",
    "    k=1e-5,\n",
    "    weighting_method=\"lin\",\n",
    "    T=2,\n",
    "    c=2,\n",
    "    verbose=False,\n",
    ")\n",
    "model_kdn.fit(X[:, :3], y)"
   ]
  },
  {
   "cell_type": "code",
   "execution_count": 80,
   "metadata": {},
   "outputs": [
    {
     "name": "stdout",
     "output_type": "stream",
     "text": [
      "NN Accuracy: 0.906\n",
      "KDN Accuracy: 0.924\n"
     ]
    }
   ],
   "source": [
    "accuracy_kdn = np.mean(\n",
    "        model_kdn.predict(X_test[:, :3]) == y_test\n",
    "    )\n",
    "accuracy_nn = np.mean(\n",
    "        np.argmax(vanilla_nn.predict(X_test[:, :3]), axis=1) == y_test\n",
    "    )\n",
    "\n",
    "print(\"NN Accuracy:\", accuracy_nn)\n",
    "print(\"KDN Accuracy:\", accuracy_kdn)"
   ]
  },
  {
   "cell_type": "code",
   "execution_count": 81,
   "metadata": {},
   "outputs": [],
   "source": [
    "def compute_weights(X_, polytope_id):\n",
    "    M_ref = model_kdn._get_activation_pattern(polytope_id)\n",
    "    start = 0\n",
    "    A = X_\n",
    "    A_ref = X_\n",
    "    d = 0\n",
    "    for l in range(len(model_kdn.network_shape)-1):\n",
    "        end = start + model_kdn.network_shape[l]\n",
    "        M_l = M_ref[start:end]\n",
    "        start = end\n",
    "        W, B = model_kdn.weights[l], model_kdn.biases[l]\n",
    "        pre_A = A @ W + B\n",
    "        A = np.maximum(0, pre_A)\n",
    "        pre_A_ref = A_ref @ W + B\n",
    "        A_ref = pre_A_ref @ np.diag(M_l) \n",
    "        d += np.linalg.norm(A - A_ref, axis=1, ord=2)\n",
    "    scales = np.exp(-d)\n",
    "    # scales = d\n",
    "    return scales"
   ]
  },
  {
   "cell_type": "code",
   "execution_count": 82,
   "metadata": {},
   "outputs": [],
   "source": [
    "X_0 = X[y==0] # data that belong to class 0\n",
    "X_0 = X_0[:, :3]\n",
    "\n",
    "# pick the point closest to the class mean\n",
    "idx = np.linalg.norm(X_0[:, :3] - [0.5, 0.5, 0.5], ord=2, axis=1).argsort()[0]\n",
    "X_ref = X_0[idx]\n",
    "\n",
    "# define the distances\n",
    "d = np.arange(0.1, 10, 0.1)\n",
    "\n",
    "# get the activation pattern of the reference point\n",
    "X_ref_polytope_id = model_kdn._get_polytope_memberships(X_ref.reshape(1, len(X_ref)))[0][0]\n",
    "\n",
    "rep = 300\n",
    "distance_replicates = {}\n",
    "for i in range(len(d)):\n",
    "    tmpp_array = []\n",
    "    for j in range(rep):\n",
    "        # sample points which has the same distance from the reference point\n",
    "        u = np.random.normal(0,1,3)\n",
    "        u_norm = np.linalg.norm(u)\n",
    "        X_bar = u/u_norm * d[i] + X_ref\n",
    "        tmpp_array.append(X_bar)\n",
    "    distance_replicates[d[i]] = tmpp_array"
   ]
  },
  {
   "cell_type": "code",
   "execution_count": 83,
   "metadata": {},
   "outputs": [],
   "source": [
    "mean_weights = []\n",
    "quantile_25_weights = []\n",
    "quantile_75_weights = []\n",
    "for i in range(len(d)):\n",
    "    weights_per_distance = []\n",
    "    for j in range(rep):\n",
    "        X_bar = distance_replicates[d[i]][j]\n",
    "        weight = compute_weights(X_bar.reshape(1, 3), X_ref_polytope_id)\n",
    "        weights_per_distance.append(weight)\n",
    "    weights_per_distance = np.array(weights_per_distance)\n",
    "    mean_weights.append(np.median(weights_per_distance))\n",
    "    quantile_25_weights.append(\n",
    "        np.quantile(weights_per_distance, [0.25])[0]\n",
    "        )\n",
    "    quantile_75_weights.append( \n",
    "        np.quantile(weights_per_distance, [0.75])[0]\n",
    "        )"
   ]
  },
  {
   "cell_type": "code",
   "execution_count": 84,
   "metadata": {},
   "outputs": [
    {
     "data": {
      "text/plain": [
       "(0.0, 1.0)"
      ]
     },
     "execution_count": 84,
     "metadata": {},
     "output_type": "execute_result"
    },
    {
     "data": {
      "image/png": "[encoded data removed]",
      "text/plain": [
       "<Figure size 576x576 with 1 Axes>"
      ]
     },
     "metadata": {
      "needs_background": "light"
     },
     "output_type": "display_data"
    }
   ],
   "source": [
    "# plot distance vs. weights\n",
    "mean_weights = np.array(mean_weights)\n",
    "quantile_25_weights = np.array(quantile_25_weights)\n",
    "quantile_75_weights = np.array(quantile_75_weights)\n",
    "\n",
    "fig, ax = plt.subplots(1,1, figsize=(8,8))\n",
    "\n",
    "ax.plot(d, mean_weights, c='r')\n",
    "ax.fill_between(d, quantile_25_weights, quantile_75_weights, facecolor='r', alpha=.3)\n",
    "\n",
    "right_side = ax.spines[\"right\"]\n",
    "right_side.set_visible(False)\n",
    "top_side = ax.spines[\"top\"]\n",
    "top_side.set_visible(False)\n",
    "\n",
    "ax.set_xlabel('Distance')\n",
    "ax.set_ylabel('weights')\n",
    "ax.set_ylim(0,1)"
   ]
  },
  {
   "cell_type": "markdown",
   "metadata": {},
   "source": [
    "# Spiral Dataset"
   ]
  },
  {
   "cell_type": "code",
   "execution_count": 23,
   "metadata": {},
   "outputs": [],
   "source": [
    "# import standard libraries\n",
    "import numpy as np\n",
    "from tensorflow import keras\n",
    "import seaborn as sns\n",
    "import matplotlib.pyplot as plt\n",
    "\n",
    "# import internal libraries\n",
    "from kdg.kdn import *\n",
    "from kdg.utils import generate_spirals"
   ]
  },
  {
   "cell_type": "code",
   "execution_count": 24,
   "metadata": {},
   "outputs": [],
   "source": [
    "# generate training data\n",
    "X, y = generate_spirals(10000, noise=0.8, n_class=2)\n",
    "X_val, y_val = generate_spirals(500, noise=0.8, n_class=2)\n",
    "X_test, y_test = generate_spirals(1000, noise=0.8, n_class=2)"
   ]
  },
  {
   "cell_type": "code",
   "execution_count": 28,
   "metadata": {},
   "outputs": [],
   "source": [
    "# NN params\n",
    "compile_kwargs = {\n",
    "    \"loss\": \"binary_crossentropy\",\n",
    "    \"optimizer\": keras.optimizers.Adam(3e-4),\n",
    "}\n",
    "callback = keras.callbacks.EarlyStopping(monitor=\"val_loss\", patience=10, verbose=False)\n",
    "fit_kwargs = {\n",
    "    \"epochs\": 300,\n",
    "    \"batch_size\": 32,\n",
    "    \"verbose\": False,\n",
    "    \"validation_data\": (X_val, keras.utils.to_categorical(y_val)),\n",
    "    \"callbacks\": [callback],\n",
    "}"
   ]
  },
  {
   "cell_type": "code",
   "execution_count": 29,
   "metadata": {},
   "outputs": [],
   "source": [
    "# network architecture\n",
    "def getNN():\n",
    "    network_base = keras.Sequential()\n",
    "    network_base.add(keras.layers.Dense(10, activation=\"relu\", input_shape=(2,)))\n",
    "    network_base.add(keras.layers.Dense(10, activation=\"relu\"))\n",
    "    network_base.add(keras.layers.Dense(10, activation=\"relu\"))\n",
    "    network_base.add(keras.layers.Dense(5, activation=\"relu\"))\n",
    "    network_base.add(keras.layers.Dense(units=2, activation=\"softmax\"))\n",
    "    network_base.compile(**compile_kwargs)\n",
    "    return network_base"
   ]
  },
  {
   "cell_type": "code",
   "execution_count": 30,
   "metadata": {},
   "outputs": [],
   "source": [
    "# train Vanilla NN\n",
    "vanilla_nn = getNN()\n",
    "history = vanilla_nn.fit(X, keras.utils.to_categorical(y), **fit_kwargs)\n",
    "\n",
    "# train KDN\n",
    "model_kdn = kdn(\n",
    "    network=vanilla_nn,\n",
    "    k=1e-5,\n",
    "    polytope_compute_method=\"all\",\n",
    "    weighting_method=\"lin\",\n",
    "    T=2,\n",
    "    c=2,\n",
    "    verbose=False,\n",
    ")\n",
    "model_kdn.fit(X, y)"
   ]
  },
  {
   "cell_type": "code",
   "execution_count": 31,
   "metadata": {},
   "outputs": [
    {
     "name": "stdout",
     "output_type": "stream",
     "text": [
      "NN Accuracy: 0.953\n",
      "KDN Accuracy: 0.957\n"
     ]
    }
   ],
   "source": [
    "accuracy_kdn = np.mean(\n",
    "        model_kdn.predict(X_test) == y_test\n",
    "    )\n",
    "accuracy_nn = np.mean(\n",
    "        np.argmax(vanilla_nn.predict(X_test), axis=1) == y_test\n",
    "    )\n",
    "\n",
    "print(\"NN Accuracy:\", accuracy_nn)\n",
    "print(\"KDN Accuracy:\", accuracy_kdn)"
   ]
  },
  {
   "cell_type": "code",
   "execution_count": 59,
   "metadata": {},
   "outputs": [],
   "source": [
    "def compute_weights(X_, polytope_id):\n",
    "    M_ref = model_kdn._get_activation_pattern(polytope_id)\n",
    "    start = 0\n",
    "    A = X_\n",
    "    A_ref = X_\n",
    "    d = 0\n",
    "    for l in range(len(model_kdn.network_shape)-1):\n",
    "        end = start + model_kdn.network_shape[l]\n",
    "        M_l = M_ref[start:end]\n",
    "        start = end\n",
    "        W, B = model_kdn.weights[l], model_kdn.biases[l]\n",
    "        pre_A = A @ W + B\n",
    "        A = np.maximum(0, pre_A)\n",
    "        pre_A_ref = A_ref @ W + B\n",
    "        A_ref = pre_A_ref @ np.diag(M_l) \n",
    "        d += np.linalg.norm(A - A_ref, axis=1, ord=2)\n",
    "    scales = np.exp(-d)\n",
    "    # scales = d\n",
    "    return scales"
   ]
  },
  {
   "cell_type": "code",
   "execution_count": 53,
   "metadata": {},
   "outputs": [],
   "source": [
    "# pick the point closest to the spirall origin\n",
    "idx = np.linalg.norm(X - [0, 0], ord=2, axis=1).argsort()[0]\n",
    "X_ref = X[idx]\n",
    "\n",
    "# define the distances\n",
    "d = np.arange(0.01, 1, 0.01)\n",
    "\n",
    "# get the activation pattern of the reference point\n",
    "X_ref_polytope_id = model_kdn._get_polytope_memberships(X_ref.reshape(1, 2))[0][0]\n",
    "a_ref = np.binary_repr(X_ref_polytope_id, width=model_kdn.num_fc_neurons)[::-1]\n",
    "a_ref = np.array(list(a_ref)).astype('int')\n",
    "\n",
    "rep = 300\n",
    "distance_replicates = {}\n",
    "for i in range(len(d)):\n",
    "    tmpp_array = []\n",
    "    for j in range(rep):\n",
    "        # sample points which has the same distance from the reference point\n",
    "        u = np.random.normal(0,1,2)\n",
    "        u_norm = np.linalg.norm(u)\n",
    "        X_bar = u/u_norm * d[i] + X_ref\n",
    "        tmpp_array.append(X_bar)\n",
    "    distance_replicates[d[i]] = tmpp_array"
   ]
  },
  {
   "cell_type": "code",
   "execution_count": 60,
   "metadata": {},
   "outputs": [],
   "source": [
    "mean_weights = []\n",
    "quantile_25_weights = []\n",
    "quantile_75_weights = []\n",
    "for i in range(len(d)):\n",
    "    weights_per_distance = []\n",
    "    for j in range(rep):\n",
    "        X_bar = distance_replicates[d[i]][j]\n",
    "        weight = compute_weights(X_bar.reshape(1, 2), X_ref_polytope_id)\n",
    "        weights_per_distance.append(weight)\n",
    "    weights_per_distance = np.array(weights_per_distance)\n",
    "    mean_weights.append(np.median(weights_per_distance))\n",
    "    quantile_25_weights.append(\n",
    "        np.quantile(weights_per_distance, [0.25])[0]\n",
    "        )\n",
    "    quantile_75_weights.append( \n",
    "        np.quantile(weights_per_distance, [0.75])[0]\n",
    "        )"
   ]
  },
  {
   "cell_type": "code",
   "execution_count": 61,
   "metadata": {},
   "outputs": [
    {
     "data": {
      "text/plain": [
       "(0.0, 1.0)"
      ]
     },
     "execution_count": 61,
     "metadata": {},
     "output_type": "execute_result"
    },
    {
     "data": {
      "image/png": "[encoded data removed]",
      "text/plain": [
       "<Figure size 576x576 with 1 Axes>"
      ]
     },
     "metadata": {
      "needs_background": "light"
     },
     "output_type": "display_data"
    }
   ],
   "source": [
    "# plot distance vs. weights\n",
    "mean_weights = np.array(mean_weights)\n",
    "quantile_25_weights = np.array(quantile_25_weights)\n",
    "quantile_75_weights = np.array(quantile_75_weights)\n",
    "\n",
    "fig, ax = plt.subplots(1,1, figsize=(8,8))\n",
    "\n",
    "ax.plot(d, mean_weights, c='r')\n",
    "ax.fill_between(d, quantile_25_weights, quantile_75_weights, facecolor='r', alpha=.3)\n",
    "\n",
    "right_side = ax.spines[\"right\"]\n",
    "right_side.set_visible(False)\n",
    "top_side = ax.spines[\"top\"]\n",
    "top_side.set_visible(False)\n",
    "\n",
    "ax.set_xlabel('Distance')\n",
    "ax.set_ylabel('weights')\n",
    "ax.set_ylim(0,1)"
   ]
  },
  {
   "cell_type": "markdown",
   "metadata": {},
   "source": [
    "# KDF on Spiral Dataset"
   ]
  },
  {
   "cell_type": "code",
   "execution_count": 86,
   "metadata": {},
   "outputs": [],
   "source": [
    "# import standard libraries\n",
    "import numpy as np\n",
    "import seaborn as sns\n",
    "import matplotlib.pyplot as plt\n",
    "\n",
    "# import internal libraries\n",
    "from kdg.kdf import *\n",
    "from kdg.utils import generate_spirals"
   ]
  },
  {
   "cell_type": "code",
   "execution_count": 87,
   "metadata": {},
   "outputs": [],
   "source": [
    "# generate training data\n",
    "X, y = generate_spirals(10000, noise=0.8, n_class=2)\n",
    "X_val, y_val = generate_spirals(500, noise=0.8, n_class=2)\n",
    "X_test, y_test = generate_spirals(1000, noise=0.8, n_class=2)"
   ]
  },
  {
   "cell_type": "code",
   "execution_count": 88,
   "metadata": {},
   "outputs": [],
   "source": [
    "n_estimators = 200\n",
    "model_kdf = kdf(kwargs={\"n_estimators\": n_estimators})\n",
    "model_kdf.fit(X, y)"
   ]
  },
  {
   "cell_type": "code",
   "execution_count": 90,
   "metadata": {},
   "outputs": [
    {
     "name": "stdout",
     "output_type": "stream",
     "text": [
      "RF Accuracy: 0.94\n",
      "KDF Accuracy: 0.936\n"
     ]
    }
   ],
   "source": [
    "accuracy_kdf = np.mean(\n",
    "        model_kdf.predict(X_test) == y_test\n",
    "    )\n",
    "accuracy_rf = np.mean(\n",
    "        model_kdf.rf_model.predict(X_test) == y_test\n",
    "    )\n",
    "\n",
    "print(\"RF Accuracy:\", accuracy_rf)\n",
    "print(\"KDF Accuracy:\", accuracy_kdf)"
   ]
  },
  {
   "cell_type": "code",
   "execution_count": 134,
   "metadata": {},
   "outputs": [],
   "source": [
    "def compute_weights(X_, X_ref):\n",
    "    a_ref = np.array(\n",
    "                    [tree.apply(X_ref) for tree in model_kdf.rf_model.estimators_]\n",
    "                ).T\n",
    "    a = np.array(\n",
    "                    [tree.apply(X_) for tree in model_kdf.rf_model.estimators_]\n",
    "                ).T\n",
    "    matched_samples = np.sum(a == a_ref)\n",
    "    # scales = matched_samples/ len(a_ref)\n",
    "    scales = matched_samples\n",
    "    return scales"
   ]
  },
  {
   "cell_type": "code",
   "execution_count": 130,
   "metadata": {},
   "outputs": [],
   "source": [
    "# pick the point closest to the spirall origin\n",
    "idx = np.linalg.norm(X - [0, 0], ord=2, axis=1).argsort()[0]\n",
    "X_ref = X[idx]\n",
    "\n",
    "# define the distances\n",
    "d = np.arange(0.01, 0.4, 0.01)\n",
    "\n",
    "rep = 300\n",
    "distance_replicates = {}\n",
    "for i in range(len(d)):\n",
    "    tmpp_array = []\n",
    "    for j in range(rep):\n",
    "        # sample points which has the same distance from the reference point\n",
    "        u = np.random.normal(0,1,2)\n",
    "        u_norm = np.linalg.norm(u)\n",
    "        X_bar = u/u_norm * d[i] + X_ref\n",
    "        tmpp_array.append(X_bar)\n",
    "    distance_replicates[d[i]] = tmpp_array"
   ]
  },
  {
   "cell_type": "code",
   "execution_count": 135,
   "metadata": {},
   "outputs": [],
   "source": [
    "mean_weights = []\n",
    "quantile_25_weights = []\n",
    "quantile_75_weights = []\n",
    "for i in range(len(d)):\n",
    "    weights_per_distance = []\n",
    "    for j in range(rep):\n",
    "        X_bar = distance_replicates[d[i]][j]\n",
    "        weight = compute_weights(X_bar.reshape(1, 2), X_ref.reshape(1, 2))\n",
    "        weights_per_distance.append(weight)\n",
    "    weights_per_distance = np.array(weights_per_distance)\n",
    "    mean_weights.append(np.median(weights_per_distance))\n",
    "    quantile_25_weights.append(\n",
    "        np.quantile(weights_per_distance, [0.25])[0]\n",
    "        )\n",
    "    quantile_75_weights.append( \n",
    "        np.quantile(weights_per_distance, [0.75])[0]\n",
    "        )"
   ]
  },
  {
   "cell_type": "code",
   "execution_count": 139,
   "metadata": {},
   "outputs": [
    {
     "data": {
      "text/plain": [
       "Text(0, 0.5, 'Number of Matched Samples')"
      ]
     },
     "execution_count": 139,
     "metadata": {},
     "output_type": "execute_result"
    },
    {
     "data": {
      "image/png": "[encoded data removed]",
      "text/plain": [
       "<Figure size 576x576 with 1 Axes>"
      ]
     },
     "metadata": {
      "needs_background": "light"
     },
     "output_type": "display_data"
    }
   ],
   "source": [
    "# plot distance vs. weights\n",
    "mean_weights = np.array(mean_weights)\n",
    "quantile_25_weights = np.array(quantile_25_weights)\n",
    "quantile_75_weights = np.array(quantile_75_weights)\n",
    "\n",
    "fig, ax = plt.subplots(1,1, figsize=(8,8))\n",
    "\n",
    "ax.plot(d, mean_weights, c='r')\n",
    "ax.fill_between(d, quantile_25_weights, quantile_75_weights, facecolor='r', alpha=.3)\n",
    "\n",
    "right_side = ax.spines[\"right\"]\n",
    "right_side.set_visible(False)\n",
    "top_side = ax.spines[\"top\"]\n",
    "top_side.set_visible(False)\n",
    "\n",
    "ax.set_xlabel('Distance')\n",
    "ax.set_ylabel('Number of Matched Samples')\n",
    "# ax.set_ylim(0,1)"
   ]
  },
  {
   "cell_type": "code",
   "execution_count": null,
   "metadata": {},
   "outputs": [],
   "source": []
  }
 ],
 "metadata": {
  "interpreter": {
   "hash": "4d95b061de94e11b297f10cd4fe2e3f784f4933b278fd1968b1b57b743177f15"
  },
  "kernelspec": {
   "display_name": "Python 3.6.13 64-bit ('kdg_env': conda)",
   "language": "python",
   "name": "python3"
  },
  "language_info": {
   "codemirror_mode": {
    "name": "ipython",
    "version": 3
   },
   "file_extension": ".py",
   "mimetype": "text/x-python",
   "name": "python",
   "nbconvert_exporter": "python",
   "pygments_lexer": "ipython3",
   "version": "3.6.13"
  },
  "orig_nbformat": 4
 },
 "nbformat": 4,
 "nbformat_minor": 2
}
